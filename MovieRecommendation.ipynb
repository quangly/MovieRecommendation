{
  "nbformat": 4,
  "nbformat_minor": 0,
  "metadata": {
    "colab": {
      "name": "MovieRecommendation.ipynb",
      "provenance": [],
      "collapsed_sections": [],
      "toc_visible": true,
      "authorship_tag": "ABX9TyMeQTKTp0v3aiYyjdWXuHCi",
      "include_colab_link": true
    },
    "kernelspec": {
      "name": "python3",
      "display_name": "Python 3"
    },
    "language_info": {
      "name": "python"
    }
  },
  "cells": [
    {
      "cell_type": "markdown",
      "metadata": {
        "id": "view-in-github",
        "colab_type": "text"
      },
      "source": [
        "<a href=\"https://colab.research.google.com/github/quangly/MovieRecommendation/blob/main/MovieRecommendation.ipynb\" target=\"_parent\"><img src=\"https://colab.research.google.com/assets/colab-badge.svg\" alt=\"Open In Colab\"/></a>"
      ]
    },
    {
      "cell_type": "code",
      "execution_count": 1,
      "metadata": {
        "id": "8XZTZy5UPFvl"
      },
      "outputs": [],
      "source": [
        "#Description: Build a movie recommendation engine using Python"
      ]
    },
    {
      "cell_type": "code",
      "source": [
        "# Import the libraries\n",
        "import pandas as pd\n",
        "import numpy as np\n",
        "from sklearn.metrics.pairwise import cosine_similarity\n",
        "from sklearn.feature_extraction.text import CountVectorizer"
      ],
      "metadata": {
        "id": "knvryZuwPRjA"
      },
      "execution_count": 3,
      "outputs": []
    },
    {
      "cell_type": "code",
      "source": [
        "#Load the data\n",
        "from google.colab import files\n",
        "uploaded = files.upload()"
      ],
      "metadata": {
        "colab": {
          "resources": {
            "http://localhost:8080/nbextensions/google.colab/files.js": {
              "data": "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",
              "ok": true,
              "headers": [
                [
                  "content-type",
                  "application/javascript"
                ]
              ],
              "status": 200,
              "status_text": ""
            }
          },
          "base_uri": "https://localhost:8080/",
          "height": 74
        },
        "id": "DDBDOwAzP24v",
        "outputId": "990a458b-f5b9-44e6-b9cf-5d3b961c1247"
      },
      "execution_count": 142,
      "outputs": [
        {
          "output_type": "display_data",
          "data": {
            "text/plain": [
              "<IPython.core.display.HTML object>"
            ],
            "text/html": [
              "\n",
              "     <input type=\"file\" id=\"files-e78f1985-7bfe-4969-bf28-840add3c3a8c\" name=\"files[]\" multiple disabled\n",
              "        style=\"border:none\" />\n",
              "     <output id=\"result-e78f1985-7bfe-4969-bf28-840add3c3a8c\">\n",
              "      Upload widget is only available when the cell has been executed in the\n",
              "      current browser session. Please rerun this cell to enable.\n",
              "      </output>\n",
              "      <script src=\"/nbextensions/google.colab/files.js\"></script> "
            ]
          },
          "metadata": {}
        },
        {
          "output_type": "stream",
          "name": "stdout",
          "text": [
            "Saving movie_data-new.csv to movie_data-new.csv\n"
          ]
        }
      ]
    },
    {
      "cell_type": "code",
      "source": [
        "df = pd.read_csv(\"movie_data.csv\")\n",
        "df = pd.read_csv(\"movie_data-new.csv\")\n",
        "df['Movie_id'] = range(0,1000)\n",
        "# shift column 'Name' to first position\n",
        "first_column = df.pop('Movie_id')\n",
        "  \n",
        "# insert column using insert(position,column_name,\n",
        "# first_column) function\n",
        "df.insert(0, 'Movie_id', first_column)\n",
        "#rename column Category to Genre\n",
        "df = df.rename(columns={\"Category\": \"Genre\"})\n",
        "df.head(3)\n",
        "\n"
      ],
      "metadata": {
        "colab": {
          "base_uri": "https://localhost:8080/",
          "height": 485
        },
        "id": "hvjdEwJfSUYM",
        "outputId": "277b9574-7720-4c9b-a507-d93f805f0bae"
      },
      "execution_count": 143,
      "outputs": [
        {
          "output_type": "execute_result",
          "data": {
            "text/plain": [
              "   Movie_id                                        Poster_Link  \\\n",
              "0         0  https://m.media-amazon.com/images/M/MV5BMDFkYT...   \n",
              "1         1  https://m.media-amazon.com/images/M/MV5BM2MyNj...   \n",
              "2         2  https://m.media-amazon.com/images/M/MV5BMTMxNT...   \n",
              "\n",
              "                      Title Released_Year Certificate  Runtime  \\\n",
              "0  The Shawshank Redemption          1994           A  142 min   \n",
              "1             The Godfather          1972           A  175 min   \n",
              "2           The Dark Knight          2008          UA  152 min   \n",
              "\n",
              "                  Genre  IMDB_Rating  \\\n",
              "0                 Drama          9.3   \n",
              "1          Crime, Drama          9.2   \n",
              "2  Action, Crime, Drama          9.0   \n",
              "\n",
              "                                            Overview  Meta_score  \\\n",
              "0  Two imprisoned men bond over a number of years...        80.0   \n",
              "1  An organized crime dynasty's aging patriarch t...       100.0   \n",
              "2  When the menace known as the Joker wreaks havo...        84.0   \n",
              "\n",
              "               Director           Star1           Star2          Star3  \\\n",
              "0        Frank Darabont     Tim Robbins  Morgan Freeman     Bob Gunton   \n",
              "1  Francis Ford Coppola   Marlon Brando       Al Pacino     James Caan   \n",
              "2     Christopher Nolan  Christian Bale    Heath Ledger  Aaron Eckhart   \n",
              "\n",
              "            Star4  No_of_Votes        Gross  \n",
              "0  William Sadler      2343110   28,341,469  \n",
              "1    Diane Keaton      1620367  134,966,411  \n",
              "2   Michael Caine      2303232  534,858,444  "
            ],
            "text/html": [
              "\n",
              "  <div id=\"df-918bef2a-304a-45ef-b2ab-892625c8b5c2\">\n",
              "    <div class=\"colab-df-container\">\n",
              "      <div>\n",
              "<style scoped>\n",
              "    .dataframe tbody tr th:only-of-type {\n",
              "        vertical-align: middle;\n",
              "    }\n",
              "\n",
              "    .dataframe tbody tr th {\n",
              "        vertical-align: top;\n",
              "    }\n",
              "\n",
              "    .dataframe thead th {\n",
              "        text-align: right;\n",
              "    }\n",
              "</style>\n",
              "<table border=\"1\" class=\"dataframe\">\n",
              "  <thead>\n",
              "    <tr style=\"text-align: right;\">\n",
              "      <th></th>\n",
              "      <th>Movie_id</th>\n",
              "      <th>Poster_Link</th>\n",
              "      <th>Title</th>\n",
              "      <th>Released_Year</th>\n",
              "      <th>Certificate</th>\n",
              "      <th>Runtime</th>\n",
              "      <th>Genre</th>\n",
              "      <th>IMDB_Rating</th>\n",
              "      <th>Overview</th>\n",
              "      <th>Meta_score</th>\n",
              "      <th>Director</th>\n",
              "      <th>Star1</th>\n",
              "      <th>Star2</th>\n",
              "      <th>Star3</th>\n",
              "      <th>Star4</th>\n",
              "      <th>No_of_Votes</th>\n",
              "      <th>Gross</th>\n",
              "    </tr>\n",
              "  </thead>\n",
              "  <tbody>\n",
              "    <tr>\n",
              "      <th>0</th>\n",
              "      <td>0</td>\n",
              "      <td>https://m.media-amazon.com/images/M/MV5BMDFkYT...</td>\n",
              "      <td>The Shawshank Redemption</td>\n",
              "      <td>1994</td>\n",
              "      <td>A</td>\n",
              "      <td>142 min</td>\n",
              "      <td>Drama</td>\n",
              "      <td>9.3</td>\n",
              "      <td>Two imprisoned men bond over a number of years...</td>\n",
              "      <td>80.0</td>\n",
              "      <td>Frank Darabont</td>\n",
              "      <td>Tim Robbins</td>\n",
              "      <td>Morgan Freeman</td>\n",
              "      <td>Bob Gunton</td>\n",
              "      <td>William Sadler</td>\n",
              "      <td>2343110</td>\n",
              "      <td>28,341,469</td>\n",
              "    </tr>\n",
              "    <tr>\n",
              "      <th>1</th>\n",
              "      <td>1</td>\n",
              "      <td>https://m.media-amazon.com/images/M/MV5BM2MyNj...</td>\n",
              "      <td>The Godfather</td>\n",
              "      <td>1972</td>\n",
              "      <td>A</td>\n",
              "      <td>175 min</td>\n",
              "      <td>Crime, Drama</td>\n",
              "      <td>9.2</td>\n",
              "      <td>An organized crime dynasty's aging patriarch t...</td>\n",
              "      <td>100.0</td>\n",
              "      <td>Francis Ford Coppola</td>\n",
              "      <td>Marlon Brando</td>\n",
              "      <td>Al Pacino</td>\n",
              "      <td>James Caan</td>\n",
              "      <td>Diane Keaton</td>\n",
              "      <td>1620367</td>\n",
              "      <td>134,966,411</td>\n",
              "    </tr>\n",
              "    <tr>\n",
              "      <th>2</th>\n",
              "      <td>2</td>\n",
              "      <td>https://m.media-amazon.com/images/M/MV5BMTMxNT...</td>\n",
              "      <td>The Dark Knight</td>\n",
              "      <td>2008</td>\n",
              "      <td>UA</td>\n",
              "      <td>152 min</td>\n",
              "      <td>Action, Crime, Drama</td>\n",
              "      <td>9.0</td>\n",
              "      <td>When the menace known as the Joker wreaks havo...</td>\n",
              "      <td>84.0</td>\n",
              "      <td>Christopher Nolan</td>\n",
              "      <td>Christian Bale</td>\n",
              "      <td>Heath Ledger</td>\n",
              "      <td>Aaron Eckhart</td>\n",
              "      <td>Michael Caine</td>\n",
              "      <td>2303232</td>\n",
              "      <td>534,858,444</td>\n",
              "    </tr>\n",
              "  </tbody>\n",
              "</table>\n",
              "</div>\n",
              "      <button class=\"colab-df-convert\" onclick=\"convertToInteractive('df-918bef2a-304a-45ef-b2ab-892625c8b5c2')\"\n",
              "              title=\"Convert this dataframe to an interactive table.\"\n",
              "              style=\"display:none;\">\n",
              "        \n",
              "  <svg xmlns=\"http://www.w3.org/2000/svg\" height=\"24px\"viewBox=\"0 0 24 24\"\n",
              "       width=\"24px\">\n",
              "    <path d=\"M0 0h24v24H0V0z\" fill=\"none\"/>\n",
              "    <path d=\"M18.56 5.44l.94 2.06.94-2.06 2.06-.94-2.06-.94-.94-2.06-.94 2.06-2.06.94zm-11 1L8.5 8.5l.94-2.06 2.06-.94-2.06-.94L8.5 2.5l-.94 2.06-2.06.94zm10 10l.94 2.06.94-2.06 2.06-.94-2.06-.94-.94-2.06-.94 2.06-2.06.94z\"/><path d=\"M17.41 7.96l-1.37-1.37c-.4-.4-.92-.59-1.43-.59-.52 0-1.04.2-1.43.59L10.3 9.45l-7.72 7.72c-.78.78-.78 2.05 0 2.83L4 21.41c.39.39.9.59 1.41.59.51 0 1.02-.2 1.41-.59l7.78-7.78 2.81-2.81c.8-.78.8-2.07 0-2.86zM5.41 20L4 18.59l7.72-7.72 1.47 1.35L5.41 20z\"/>\n",
              "  </svg>\n",
              "      </button>\n",
              "      \n",
              "  <style>\n",
              "    .colab-df-container {\n",
              "      display:flex;\n",
              "      flex-wrap:wrap;\n",
              "      gap: 12px;\n",
              "    }\n",
              "\n",
              "    .colab-df-convert {\n",
              "      background-color: #E8F0FE;\n",
              "      border: none;\n",
              "      border-radius: 50%;\n",
              "      cursor: pointer;\n",
              "      display: none;\n",
              "      fill: #1967D2;\n",
              "      height: 32px;\n",
              "      padding: 0 0 0 0;\n",
              "      width: 32px;\n",
              "    }\n",
              "\n",
              "    .colab-df-convert:hover {\n",
              "      background-color: #E2EBFA;\n",
              "      box-shadow: 0px 1px 2px rgba(60, 64, 67, 0.3), 0px 1px 3px 1px rgba(60, 64, 67, 0.15);\n",
              "      fill: #174EA6;\n",
              "    }\n",
              "\n",
              "    [theme=dark] .colab-df-convert {\n",
              "      background-color: #3B4455;\n",
              "      fill: #D2E3FC;\n",
              "    }\n",
              "\n",
              "    [theme=dark] .colab-df-convert:hover {\n",
              "      background-color: #434B5C;\n",
              "      box-shadow: 0px 1px 3px 1px rgba(0, 0, 0, 0.15);\n",
              "      filter: drop-shadow(0px 1px 2px rgba(0, 0, 0, 0.3));\n",
              "      fill: #FFFFFF;\n",
              "    }\n",
              "  </style>\n",
              "\n",
              "      <script>\n",
              "        const buttonEl =\n",
              "          document.querySelector('#df-918bef2a-304a-45ef-b2ab-892625c8b5c2 button.colab-df-convert');\n",
              "        buttonEl.style.display =\n",
              "          google.colab.kernel.accessAllowed ? 'block' : 'none';\n",
              "\n",
              "        async function convertToInteractive(key) {\n",
              "          const element = document.querySelector('#df-918bef2a-304a-45ef-b2ab-892625c8b5c2');\n",
              "          const dataTable =\n",
              "            await google.colab.kernel.invokeFunction('convertToInteractive',\n",
              "                                                     [key], {});\n",
              "          if (!dataTable) return;\n",
              "\n",
              "          const docLinkHtml = 'Like what you see? Visit the ' +\n",
              "            '<a target=\"_blank\" href=https://colab.research.google.com/notebooks/data_table.ipynb>data table notebook</a>'\n",
              "            + ' to learn more about interactive tables.';\n",
              "          element.innerHTML = '';\n",
              "          dataTable['output_type'] = 'display_data';\n",
              "          await google.colab.output.renderOutput(dataTable, element);\n",
              "          const docLink = document.createElement('div');\n",
              "          docLink.innerHTML = docLinkHtml;\n",
              "          element.appendChild(docLink);\n",
              "        }\n",
              "      </script>\n",
              "    </div>\n",
              "  </div>\n",
              "  "
            ]
          },
          "metadata": {},
          "execution_count": 143
        }
      ]
    },
    {
      "cell_type": "code",
      "source": [
        "#get count of numbr of row/smovies in the data set and number of columns\n",
        "df.shape"
      ],
      "metadata": {
        "colab": {
          "base_uri": "https://localhost:8080/"
        },
        "id": "F_JEdrOFTkJ1",
        "outputId": "86f64516-8201-4fe0-bc6d-0efc5f762f6b"
      },
      "execution_count": 144,
      "outputs": [
        {
          "output_type": "execute_result",
          "data": {
            "text/plain": [
              "(1000, 17)"
            ]
          },
          "metadata": {},
          "execution_count": 144
        }
      ]
    },
    {
      "cell_type": "code",
      "source": [
        "#create list of important columns for the recommendation engine\n",
        "# columns = ['Director', 'Star','Genre','Title']\n",
        "columns = ['Director', 'Star1','Star2','Star3','Star4','Genre','Title']"
      ],
      "metadata": {
        "id": "0EWU6-gXTs2g"
      },
      "execution_count": 148,
      "outputs": []
    },
    {
      "cell_type": "code",
      "source": [
        "#show the data\n",
        "df[columns].head(3)\n"
      ],
      "metadata": {
        "colab": {
          "base_uri": "https://localhost:8080/",
          "height": 143
        },
        "id": "lmlsJt7tUnIr",
        "outputId": "bc036655-72c1-457a-f746-6b66d6842296"
      },
      "execution_count": 149,
      "outputs": [
        {
          "output_type": "execute_result",
          "data": {
            "text/plain": [
              "               Director           Star1           Star2          Star3  \\\n",
              "0        Frank Darabont     Tim Robbins  Morgan Freeman     Bob Gunton   \n",
              "1  Francis Ford Coppola   Marlon Brando       Al Pacino     James Caan   \n",
              "2     Christopher Nolan  Christian Bale    Heath Ledger  Aaron Eckhart   \n",
              "\n",
              "            Star4                 Genre                     Title  \n",
              "0  William Sadler                 Drama  The Shawshank Redemption  \n",
              "1    Diane Keaton          Crime, Drama             The Godfather  \n",
              "2   Michael Caine  Action, Crime, Drama           The Dark Knight  "
            ],
            "text/html": [
              "\n",
              "  <div id=\"df-9fb85201-750a-4999-a057-183339bad69d\">\n",
              "    <div class=\"colab-df-container\">\n",
              "      <div>\n",
              "<style scoped>\n",
              "    .dataframe tbody tr th:only-of-type {\n",
              "        vertical-align: middle;\n",
              "    }\n",
              "\n",
              "    .dataframe tbody tr th {\n",
              "        vertical-align: top;\n",
              "    }\n",
              "\n",
              "    .dataframe thead th {\n",
              "        text-align: right;\n",
              "    }\n",
              "</style>\n",
              "<table border=\"1\" class=\"dataframe\">\n",
              "  <thead>\n",
              "    <tr style=\"text-align: right;\">\n",
              "      <th></th>\n",
              "      <th>Director</th>\n",
              "      <th>Star1</th>\n",
              "      <th>Star2</th>\n",
              "      <th>Star3</th>\n",
              "      <th>Star4</th>\n",
              "      <th>Genre</th>\n",
              "      <th>Title</th>\n",
              "    </tr>\n",
              "  </thead>\n",
              "  <tbody>\n",
              "    <tr>\n",
              "      <th>0</th>\n",
              "      <td>Frank Darabont</td>\n",
              "      <td>Tim Robbins</td>\n",
              "      <td>Morgan Freeman</td>\n",
              "      <td>Bob Gunton</td>\n",
              "      <td>William Sadler</td>\n",
              "      <td>Drama</td>\n",
              "      <td>The Shawshank Redemption</td>\n",
              "    </tr>\n",
              "    <tr>\n",
              "      <th>1</th>\n",
              "      <td>Francis Ford Coppola</td>\n",
              "      <td>Marlon Brando</td>\n",
              "      <td>Al Pacino</td>\n",
              "      <td>James Caan</td>\n",
              "      <td>Diane Keaton</td>\n",
              "      <td>Crime, Drama</td>\n",
              "      <td>The Godfather</td>\n",
              "    </tr>\n",
              "    <tr>\n",
              "      <th>2</th>\n",
              "      <td>Christopher Nolan</td>\n",
              "      <td>Christian Bale</td>\n",
              "      <td>Heath Ledger</td>\n",
              "      <td>Aaron Eckhart</td>\n",
              "      <td>Michael Caine</td>\n",
              "      <td>Action, Crime, Drama</td>\n",
              "      <td>The Dark Knight</td>\n",
              "    </tr>\n",
              "  </tbody>\n",
              "</table>\n",
              "</div>\n",
              "      <button class=\"colab-df-convert\" onclick=\"convertToInteractive('df-9fb85201-750a-4999-a057-183339bad69d')\"\n",
              "              title=\"Convert this dataframe to an interactive table.\"\n",
              "              style=\"display:none;\">\n",
              "        \n",
              "  <svg xmlns=\"http://www.w3.org/2000/svg\" height=\"24px\"viewBox=\"0 0 24 24\"\n",
              "       width=\"24px\">\n",
              "    <path d=\"M0 0h24v24H0V0z\" fill=\"none\"/>\n",
              "    <path d=\"M18.56 5.44l.94 2.06.94-2.06 2.06-.94-2.06-.94-.94-2.06-.94 2.06-2.06.94zm-11 1L8.5 8.5l.94-2.06 2.06-.94-2.06-.94L8.5 2.5l-.94 2.06-2.06.94zm10 10l.94 2.06.94-2.06 2.06-.94-2.06-.94-.94-2.06-.94 2.06-2.06.94z\"/><path d=\"M17.41 7.96l-1.37-1.37c-.4-.4-.92-.59-1.43-.59-.52 0-1.04.2-1.43.59L10.3 9.45l-7.72 7.72c-.78.78-.78 2.05 0 2.83L4 21.41c.39.39.9.59 1.41.59.51 0 1.02-.2 1.41-.59l7.78-7.78 2.81-2.81c.8-.78.8-2.07 0-2.86zM5.41 20L4 18.59l7.72-7.72 1.47 1.35L5.41 20z\"/>\n",
              "  </svg>\n",
              "      </button>\n",
              "      \n",
              "  <style>\n",
              "    .colab-df-container {\n",
              "      display:flex;\n",
              "      flex-wrap:wrap;\n",
              "      gap: 12px;\n",
              "    }\n",
              "\n",
              "    .colab-df-convert {\n",
              "      background-color: #E8F0FE;\n",
              "      border: none;\n",
              "      border-radius: 50%;\n",
              "      cursor: pointer;\n",
              "      display: none;\n",
              "      fill: #1967D2;\n",
              "      height: 32px;\n",
              "      padding: 0 0 0 0;\n",
              "      width: 32px;\n",
              "    }\n",
              "\n",
              "    .colab-df-convert:hover {\n",
              "      background-color: #E2EBFA;\n",
              "      box-shadow: 0px 1px 2px rgba(60, 64, 67, 0.3), 0px 1px 3px 1px rgba(60, 64, 67, 0.15);\n",
              "      fill: #174EA6;\n",
              "    }\n",
              "\n",
              "    [theme=dark] .colab-df-convert {\n",
              "      background-color: #3B4455;\n",
              "      fill: #D2E3FC;\n",
              "    }\n",
              "\n",
              "    [theme=dark] .colab-df-convert:hover {\n",
              "      background-color: #434B5C;\n",
              "      box-shadow: 0px 1px 3px 1px rgba(0, 0, 0, 0.15);\n",
              "      filter: drop-shadow(0px 1px 2px rgba(0, 0, 0, 0.3));\n",
              "      fill: #FFFFFF;\n",
              "    }\n",
              "  </style>\n",
              "\n",
              "      <script>\n",
              "        const buttonEl =\n",
              "          document.querySelector('#df-9fb85201-750a-4999-a057-183339bad69d button.colab-df-convert');\n",
              "        buttonEl.style.display =\n",
              "          google.colab.kernel.accessAllowed ? 'block' : 'none';\n",
              "\n",
              "        async function convertToInteractive(key) {\n",
              "          const element = document.querySelector('#df-9fb85201-750a-4999-a057-183339bad69d');\n",
              "          const dataTable =\n",
              "            await google.colab.kernel.invokeFunction('convertToInteractive',\n",
              "                                                     [key], {});\n",
              "          if (!dataTable) return;\n",
              "\n",
              "          const docLinkHtml = 'Like what you see? Visit the ' +\n",
              "            '<a target=\"_blank\" href=https://colab.research.google.com/notebooks/data_table.ipynb>data table notebook</a>'\n",
              "            + ' to learn more about interactive tables.';\n",
              "          element.innerHTML = '';\n",
              "          dataTable['output_type'] = 'display_data';\n",
              "          await google.colab.output.renderOutput(dataTable, element);\n",
              "          const docLink = document.createElement('div');\n",
              "          docLink.innerHTML = docLinkHtml;\n",
              "          element.appendChild(docLink);\n",
              "        }\n",
              "      </script>\n",
              "    </div>\n",
              "  </div>\n",
              "  "
            ]
          },
          "metadata": {},
          "execution_count": 149
        }
      ]
    },
    {
      "cell_type": "code",
      "source": [
        "#check for any missing values in the import columns\n",
        "# df[columns].isnull().values.any()\n",
        "df[columns].isnull().values.any()\n",
        "df.columns[df.isna().any()].tolist()\n",
        "# df.loc[:, df.isnull().any()]"
      ],
      "metadata": {
        "colab": {
          "base_uri": "https://localhost:8080/"
        },
        "id": "yKYFzq_IU02T",
        "outputId": "b3821269-a134-4d79-f3a8-729699eca55b"
      },
      "execution_count": 150,
      "outputs": [
        {
          "output_type": "execute_result",
          "data": {
            "text/plain": [
              "['Certificate', 'Meta_score', 'Gross']"
            ]
          },
          "metadata": {},
          "execution_count": 150
        }
      ]
    },
    {
      "cell_type": "code",
      "source": [
        "# create a function to combine the values of the import columns into a single string\n",
        "def get_important_features(data):\n",
        "  important_features = []\n",
        "  for i in range(0,data.shape[0]):\n",
        "    important_features.append(data['Star1'][i] + \\\n",
        "                              ' ' + data['Star2'][i] + \\\n",
        "                              ' ' + data['Star3'][i] + \\\n",
        "                              ' ' + data['Star4'][i] + \\\n",
        "                              ' ' +data['Director'][i] + \\\n",
        "                              ' ' +data['Title'][i] + \\\n",
        "                              ' ' +data['Genre'][i])\n",
        "  \n",
        "  return important_features\n",
        "\n"
      ],
      "metadata": {
        "id": "zAp047s1W74Z"
      },
      "execution_count": 165,
      "outputs": []
    },
    {
      "cell_type": "code",
      "source": [
        "#create a column to hold the combined strings\n",
        "df['important_features'] = get_important_features(df)\n",
        "# #show the data\n",
        "# pd.set_option('display.max_rows', None)\n",
        "# # df['important_features'].unique()\n",
        "df.head(3)"
      ],
      "metadata": {
        "colab": {
          "base_uri": "https://localhost:8080/",
          "height": 485
        },
        "id": "2v8alRtZXoqs",
        "outputId": "4ae01189-de08-4111-91cc-99dfc33cdaea"
      },
      "execution_count": 166,
      "outputs": [
        {
          "output_type": "execute_result",
          "data": {
            "text/plain": [
              "   Movie_id                                        Poster_Link  \\\n",
              "0         0  https://m.media-amazon.com/images/M/MV5BMDFkYT...   \n",
              "1         1  https://m.media-amazon.com/images/M/MV5BM2MyNj...   \n",
              "2         2  https://m.media-amazon.com/images/M/MV5BMTMxNT...   \n",
              "\n",
              "                      Title Released_Year Certificate  Runtime  \\\n",
              "0  The Shawshank Redemption          1994           A  142 min   \n",
              "1             The Godfather          1972           A  175 min   \n",
              "2           The Dark Knight          2008          UA  152 min   \n",
              "\n",
              "                  Genre  IMDB_Rating  \\\n",
              "0                 Drama          9.3   \n",
              "1          Crime, Drama          9.2   \n",
              "2  Action, Crime, Drama          9.0   \n",
              "\n",
              "                                            Overview  Meta_score  \\\n",
              "0  Two imprisoned men bond over a number of years...        80.0   \n",
              "1  An organized crime dynasty's aging patriarch t...       100.0   \n",
              "2  When the menace known as the Joker wreaks havo...        84.0   \n",
              "\n",
              "               Director           Star1           Star2          Star3  \\\n",
              "0        Frank Darabont     Tim Robbins  Morgan Freeman     Bob Gunton   \n",
              "1  Francis Ford Coppola   Marlon Brando       Al Pacino     James Caan   \n",
              "2     Christopher Nolan  Christian Bale    Heath Ledger  Aaron Eckhart   \n",
              "\n",
              "            Star4  No_of_Votes        Gross  \\\n",
              "0  William Sadler      2343110   28,341,469   \n",
              "1    Diane Keaton      1620367  134,966,411   \n",
              "2   Michael Caine      2303232  534,858,444   \n",
              "\n",
              "                                  important_features  \n",
              "0  Tim Robbins Morgan Freeman Bob Gunton William ...  \n",
              "1  Marlon Brando Al Pacino James Caan Diane Keato...  \n",
              "2  Christian Bale Heath Ledger Aaron Eckhart Mich...  "
            ],
            "text/html": [
              "\n",
              "  <div id=\"df-b2438bd9-bf68-4198-a669-d6731576907c\">\n",
              "    <div class=\"colab-df-container\">\n",
              "      <div>\n",
              "<style scoped>\n",
              "    .dataframe tbody tr th:only-of-type {\n",
              "        vertical-align: middle;\n",
              "    }\n",
              "\n",
              "    .dataframe tbody tr th {\n",
              "        vertical-align: top;\n",
              "    }\n",
              "\n",
              "    .dataframe thead th {\n",
              "        text-align: right;\n",
              "    }\n",
              "</style>\n",
              "<table border=\"1\" class=\"dataframe\">\n",
              "  <thead>\n",
              "    <tr style=\"text-align: right;\">\n",
              "      <th></th>\n",
              "      <th>Movie_id</th>\n",
              "      <th>Poster_Link</th>\n",
              "      <th>Title</th>\n",
              "      <th>Released_Year</th>\n",
              "      <th>Certificate</th>\n",
              "      <th>Runtime</th>\n",
              "      <th>Genre</th>\n",
              "      <th>IMDB_Rating</th>\n",
              "      <th>Overview</th>\n",
              "      <th>Meta_score</th>\n",
              "      <th>Director</th>\n",
              "      <th>Star1</th>\n",
              "      <th>Star2</th>\n",
              "      <th>Star3</th>\n",
              "      <th>Star4</th>\n",
              "      <th>No_of_Votes</th>\n",
              "      <th>Gross</th>\n",
              "      <th>important_features</th>\n",
              "    </tr>\n",
              "  </thead>\n",
              "  <tbody>\n",
              "    <tr>\n",
              "      <th>0</th>\n",
              "      <td>0</td>\n",
              "      <td>https://m.media-amazon.com/images/M/MV5BMDFkYT...</td>\n",
              "      <td>The Shawshank Redemption</td>\n",
              "      <td>1994</td>\n",
              "      <td>A</td>\n",
              "      <td>142 min</td>\n",
              "      <td>Drama</td>\n",
              "      <td>9.3</td>\n",
              "      <td>Two imprisoned men bond over a number of years...</td>\n",
              "      <td>80.0</td>\n",
              "      <td>Frank Darabont</td>\n",
              "      <td>Tim Robbins</td>\n",
              "      <td>Morgan Freeman</td>\n",
              "      <td>Bob Gunton</td>\n",
              "      <td>William Sadler</td>\n",
              "      <td>2343110</td>\n",
              "      <td>28,341,469</td>\n",
              "      <td>Tim Robbins Morgan Freeman Bob Gunton William ...</td>\n",
              "    </tr>\n",
              "    <tr>\n",
              "      <th>1</th>\n",
              "      <td>1</td>\n",
              "      <td>https://m.media-amazon.com/images/M/MV5BM2MyNj...</td>\n",
              "      <td>The Godfather</td>\n",
              "      <td>1972</td>\n",
              "      <td>A</td>\n",
              "      <td>175 min</td>\n",
              "      <td>Crime, Drama</td>\n",
              "      <td>9.2</td>\n",
              "      <td>An organized crime dynasty's aging patriarch t...</td>\n",
              "      <td>100.0</td>\n",
              "      <td>Francis Ford Coppola</td>\n",
              "      <td>Marlon Brando</td>\n",
              "      <td>Al Pacino</td>\n",
              "      <td>James Caan</td>\n",
              "      <td>Diane Keaton</td>\n",
              "      <td>1620367</td>\n",
              "      <td>134,966,411</td>\n",
              "      <td>Marlon Brando Al Pacino James Caan Diane Keato...</td>\n",
              "    </tr>\n",
              "    <tr>\n",
              "      <th>2</th>\n",
              "      <td>2</td>\n",
              "      <td>https://m.media-amazon.com/images/M/MV5BMTMxNT...</td>\n",
              "      <td>The Dark Knight</td>\n",
              "      <td>2008</td>\n",
              "      <td>UA</td>\n",
              "      <td>152 min</td>\n",
              "      <td>Action, Crime, Drama</td>\n",
              "      <td>9.0</td>\n",
              "      <td>When the menace known as the Joker wreaks havo...</td>\n",
              "      <td>84.0</td>\n",
              "      <td>Christopher Nolan</td>\n",
              "      <td>Christian Bale</td>\n",
              "      <td>Heath Ledger</td>\n",
              "      <td>Aaron Eckhart</td>\n",
              "      <td>Michael Caine</td>\n",
              "      <td>2303232</td>\n",
              "      <td>534,858,444</td>\n",
              "      <td>Christian Bale Heath Ledger Aaron Eckhart Mich...</td>\n",
              "    </tr>\n",
              "  </tbody>\n",
              "</table>\n",
              "</div>\n",
              "      <button class=\"colab-df-convert\" onclick=\"convertToInteractive('df-b2438bd9-bf68-4198-a669-d6731576907c')\"\n",
              "              title=\"Convert this dataframe to an interactive table.\"\n",
              "              style=\"display:none;\">\n",
              "        \n",
              "  <svg xmlns=\"http://www.w3.org/2000/svg\" height=\"24px\"viewBox=\"0 0 24 24\"\n",
              "       width=\"24px\">\n",
              "    <path d=\"M0 0h24v24H0V0z\" fill=\"none\"/>\n",
              "    <path d=\"M18.56 5.44l.94 2.06.94-2.06 2.06-.94-2.06-.94-.94-2.06-.94 2.06-2.06.94zm-11 1L8.5 8.5l.94-2.06 2.06-.94-2.06-.94L8.5 2.5l-.94 2.06-2.06.94zm10 10l.94 2.06.94-2.06 2.06-.94-2.06-.94-.94-2.06-.94 2.06-2.06.94z\"/><path d=\"M17.41 7.96l-1.37-1.37c-.4-.4-.92-.59-1.43-.59-.52 0-1.04.2-1.43.59L10.3 9.45l-7.72 7.72c-.78.78-.78 2.05 0 2.83L4 21.41c.39.39.9.59 1.41.59.51 0 1.02-.2 1.41-.59l7.78-7.78 2.81-2.81c.8-.78.8-2.07 0-2.86zM5.41 20L4 18.59l7.72-7.72 1.47 1.35L5.41 20z\"/>\n",
              "  </svg>\n",
              "      </button>\n",
              "      \n",
              "  <style>\n",
              "    .colab-df-container {\n",
              "      display:flex;\n",
              "      flex-wrap:wrap;\n",
              "      gap: 12px;\n",
              "    }\n",
              "\n",
              "    .colab-df-convert {\n",
              "      background-color: #E8F0FE;\n",
              "      border: none;\n",
              "      border-radius: 50%;\n",
              "      cursor: pointer;\n",
              "      display: none;\n",
              "      fill: #1967D2;\n",
              "      height: 32px;\n",
              "      padding: 0 0 0 0;\n",
              "      width: 32px;\n",
              "    }\n",
              "\n",
              "    .colab-df-convert:hover {\n",
              "      background-color: #E2EBFA;\n",
              "      box-shadow: 0px 1px 2px rgba(60, 64, 67, 0.3), 0px 1px 3px 1px rgba(60, 64, 67, 0.15);\n",
              "      fill: #174EA6;\n",
              "    }\n",
              "\n",
              "    [theme=dark] .colab-df-convert {\n",
              "      background-color: #3B4455;\n",
              "      fill: #D2E3FC;\n",
              "    }\n",
              "\n",
              "    [theme=dark] .colab-df-convert:hover {\n",
              "      background-color: #434B5C;\n",
              "      box-shadow: 0px 1px 3px 1px rgba(0, 0, 0, 0.15);\n",
              "      filter: drop-shadow(0px 1px 2px rgba(0, 0, 0, 0.3));\n",
              "      fill: #FFFFFF;\n",
              "    }\n",
              "  </style>\n",
              "\n",
              "      <script>\n",
              "        const buttonEl =\n",
              "          document.querySelector('#df-b2438bd9-bf68-4198-a669-d6731576907c button.colab-df-convert');\n",
              "        buttonEl.style.display =\n",
              "          google.colab.kernel.accessAllowed ? 'block' : 'none';\n",
              "\n",
              "        async function convertToInteractive(key) {\n",
              "          const element = document.querySelector('#df-b2438bd9-bf68-4198-a669-d6731576907c');\n",
              "          const dataTable =\n",
              "            await google.colab.kernel.invokeFunction('convertToInteractive',\n",
              "                                                     [key], {});\n",
              "          if (!dataTable) return;\n",
              "\n",
              "          const docLinkHtml = 'Like what you see? Visit the ' +\n",
              "            '<a target=\"_blank\" href=https://colab.research.google.com/notebooks/data_table.ipynb>data table notebook</a>'\n",
              "            + ' to learn more about interactive tables.';\n",
              "          element.innerHTML = '';\n",
              "          dataTable['output_type'] = 'display_data';\n",
              "          await google.colab.output.renderOutput(dataTable, element);\n",
              "          const docLink = document.createElement('div');\n",
              "          docLink.innerHTML = docLinkHtml;\n",
              "          element.appendChild(docLink);\n",
              "        }\n",
              "      </script>\n",
              "    </div>\n",
              "  </div>\n",
              "  "
            ]
          },
          "metadata": {},
          "execution_count": 166
        }
      ]
    },
    {
      "cell_type": "code",
      "source": [
        "# convert the text to a matrix of token counts\n",
        "cm = CountVectorizer().fit_transform(df['important_features'])"
      ],
      "metadata": {
        "id": "5TeyGIGIhdfI"
      },
      "execution_count": 167,
      "outputs": []
    },
    {
      "cell_type": "code",
      "source": [
        "#get the cosine simimlarity matrix from the count matrix\n",
        "cs = cosine_similarity(cm)\n",
        "#Print the cosine similarity matrix - values 0 to 1. 1 = 100% similar to a movie\n",
        "#each row is a movie and each column is a movie.\n",
        "#first row/column is 1 b/c it's a movie similar to itself\n",
        "print(cs)"
      ],
      "metadata": {
        "colab": {
          "base_uri": "https://localhost:8080/"
        },
        "id": "AIgKm_UYhnsA",
        "outputId": "865a5075-44d4-43f0-95f4-a83e925666b8"
      },
      "execution_count": 168,
      "outputs": [
        {
          "output_type": "stream",
          "name": "stdout",
          "text": [
            "[[1.         0.13801311 0.13363062 ... 0.06482037 0.14824986 0.06681531]\n",
            " [0.13801311 1.         0.19364917 ... 0.06262243 0.07161149 0.12909944]\n",
            " [0.13363062 0.19364917 1.         ... 0.06063391 0.06933752 0.125     ]\n",
            " ...\n",
            " [0.06482037 0.06262243 0.06063391 ... 1.         0.13453456 0.        ]\n",
            " [0.14824986 0.07161149 0.06933752 ... 0.13453456 1.         0.13867505]\n",
            " [0.06681531 0.12909944 0.125      ... 0.         0.13867505 1.        ]]\n"
          ]
        }
      ]
    },
    {
      "cell_type": "code",
      "source": [
        "#get the shape of the cosine similarity matrix\n",
        "cs.shape"
      ],
      "metadata": {
        "colab": {
          "base_uri": "https://localhost:8080/"
        },
        "id": "jC5QE0PdiYOO",
        "outputId": "36cc0415-3419-4a9a-a724-13223ae129eb"
      },
      "execution_count": 169,
      "outputs": [
        {
          "output_type": "execute_result",
          "data": {
            "text/plain": [
              "(1000, 1000)"
            ]
          },
          "metadata": {},
          "execution_count": 169
        }
      ]
    },
    {
      "cell_type": "code",
      "source": [
        "#get the title of the movie that user likes\n",
        "title = \"The Dark Knight\"\n",
        "#find the movies id\n",
        "movie_id = df[df.Title == title]['Movie_id'].values[0]"
      ],
      "metadata": {
        "id": "jThTNXX7ijky"
      },
      "execution_count": 176,
      "outputs": []
    },
    {
      "cell_type": "code",
      "source": [
        "#create a list of enumerations for the similarity score [(movie_id, similarity score), (..)]\n",
        "scores = list(enumerate(cs[movie_id]))\n",
        "\n",
        "#Sort the list x[1] = similarity score descending score\n",
        "sorted_scores = sorted(scores, key = lambda x:x[1], reverse = True)\n",
        "#get every element exempt first element\n",
        "sorted_scores = sorted_scores[1:]\n"
      ],
      "metadata": {
        "id": "tBdRoInHjNno"
      },
      "execution_count": 183,
      "outputs": []
    },
    {
      "cell_type": "code",
      "source": [
        "print(sorted_scores)"
      ],
      "metadata": {
        "colab": {
          "base_uri": "https://localhost:8080/"
        },
        "id": "VdI5doEBkOEV",
        "outputId": "7f55f8ec-2eb3-4501-d5ef-a467e93a13e8"
      },
      "execution_count": 181,
      "outputs": [
        {
          "output_type": "stream",
          "name": "stdout",
          "text": [
            "[(2, 1.0), (36, 0.5), (63, 0.5), (155, 0.4677071733467426), (774, 0.3125), (832, 0.30316953129541624), (819, 0.2795084971874737), (603, 0.2727723627949905), (718, 0.2727723627949905), (821, 0.2727723627949905), (573, 0.2672612419124244), (217, 0.2581988897471611), (614, 0.2581988897471611), (649, 0.2581988897471611), (953, 0.2581988897471611), (968, 0.2581988897471611), (983, 0.2581988897471611), (241, 0.25), (600, 0.25), (655, 0.25), (663, 0.25), (778, 0.25), (782, 0.25), (850, 0.25), (901, 0.25), (5, 0.24659848095803594), (10, 0.24659848095803594), (25, 0.24253562503633297), (384, 0.24253562503633297), (730, 0.24253562503633297), (852, 0.24253562503633297), (13, 0.24056261216234406), (278, 0.23570226039551587), (642, 0.23570226039551587), (661, 0.22941573387056174), (692, 0.22941573387056174), (28, 0.22360679774997896), (695, 0.22360679774997896), (442, 0.2182178902359924), (546, 0.2182178902359924), (612, 0.2182178902359924), (872, 0.2182178902359924), (55, 0.2165063509461097), (331, 0.2165063509461097), (263, 0.21320071635561041), (134, 0.20801257358446093), (42, 0.2004459314343183), (218, 0.2004459314343183), (224, 0.2004459314343183), (696, 0.2004459314343183), (773, 0.2004459314343183), (881, 0.2004459314343183), (898, 0.2), (1, 0.19364916731037082), (21, 0.19364916731037082), (37, 0.19364916731037082), (103, 0.19364916731037082), (164, 0.19364916731037082), (176, 0.19364916731037082), (308, 0.19364916731037082), (343, 0.19364916731037082), (410, 0.19364916731037082), (569, 0.19364916731037082), (710, 0.19364916731037082), (784, 0.19364916731037082), (809, 0.19364916731037082), (893, 0.19364916731037082), (921, 0.19364916731037082), (958, 0.19364916731037082), (8, 0.1875), (113, 0.1875), (305, 0.1875), (310, 0.1875), (356, 0.1875), (369, 0.1875), (441, 0.1875), (484, 0.1875), (528, 0.1875), (702, 0.1875), (705, 0.1875), (744, 0.1875), (768, 0.1875), (889, 0.1875), (918, 0.1875), (931, 0.1875), (17, 0.18190171877724973), (79, 0.18190171877724973), (129, 0.18190171877724973), (429, 0.18190171877724973), (513, 0.18190171877724973), (520, 0.18190171877724973), (577, 0.18190171877724973), (584, 0.18190171877724973), (882, 0.18190171877724973), (884, 0.18190171877724973), (888, 0.18190171877724973), (896, 0.18190171877724973), (908, 0.18190171877724973), (915, 0.18190171877724973), (974, 0.18190171877724973), (989, 0.18190171877724973), (376, 0.1796053020267749), (47, 0.1767766952966369), (112, 0.1767766952966369), (147, 0.1767766952966369), (201, 0.1767766952966369), (243, 0.1767766952966369), (451, 0.1767766952966369), (578, 0.1767766952966369), (611, 0.1767766952966369), (648, 0.1767766952966369), (665, 0.1767766952966369), (669, 0.1767766952966369), (674, 0.1767766952966369), (215, 0.1720618004029213), (345, 0.1720618004029213), (564, 0.1720618004029213), (610, 0.1720618004029213), (733, 0.1720618004029213), (3, 0.16770509831248423), (226, 0.16770509831248423), (311, 0.16770509831248423), (424, 0.16770509831248423), (527, 0.16770509831248423), (675, 0.16770509831248423), (687, 0.16770509831248423), (833, 0.16770509831248423), (847, 0.16770509831248423), (927, 0.16770509831248423), (304, 0.1636634176769943), (375, 0.1599005372667078), (616, 0.1599005372667078), (977, 0.1599005372667078), (191, 0.1563858105428061), (602, 0.15309310892394865), (87, 0.15075567228888181), (605, 0.14708710135363803), (130, 0.14433756729740646), (86, 0.1386750490563073), (136, 0.1386750490563073), (160, 0.1386750490563073), (420, 0.1386750490563073), (707, 0.1386750490563073), (838, 0.1386750490563073), (894, 0.1386750490563073), (895, 0.1386750490563073), (916, 0.1386750490563073), (917, 0.1386750490563073), (928, 0.1386750490563073), (0, 0.1336306209562122), (6, 0.1336306209562122), (30, 0.1336306209562122), (39, 0.1336306209562122), (50, 0.1336306209562122), (73, 0.1336306209562122), (144, 0.1336306209562122), (159, 0.1336306209562122), (162, 0.1336306209562122), (163, 0.1336306209562122), (165, 0.1336306209562122), (181, 0.1336306209562122), (189, 0.1336306209562122), (198, 0.1336306209562122), (222, 0.1336306209562122), (288, 0.1336306209562122), (294, 0.1336306209562122), (323, 0.1336306209562122), (326, 0.1336306209562122), (347, 0.1336306209562122), (380, 0.1336306209562122), (418, 0.1336306209562122), (434, 0.1336306209562122), (450, 0.1336306209562122), (465, 0.1336306209562122), (474, 0.1336306209562122), (476, 0.1336306209562122), (483, 0.1336306209562122), (485, 0.1336306209562122), (542, 0.1336306209562122), (570, 0.1336306209562122), (590, 0.1336306209562122), (621, 0.1336306209562122), (637, 0.1336306209562122), (639, 0.1336306209562122), (659, 0.1336306209562122), (682, 0.1336306209562122), (697, 0.1336306209562122), (759, 0.1336306209562122), (775, 0.1336306209562122), (849, 0.1336306209562122), (869, 0.1336306209562122), (885, 0.1336306209562122), (949, 0.1336306209562122), (4, 0.12909944487358055), (15, 0.12909944487358055), (22, 0.12909944487358055), (33, 0.12909944487358055), (38, 0.12909944487358055), (57, 0.12909944487358055), (69, 0.12909944487358055), (106, 0.12909944487358055), (108, 0.12909944487358055), (111, 0.12909944487358055), (117, 0.12909944487358055), (133, 0.12909944487358055), (180, 0.12909944487358055), (202, 0.12909944487358055), (216, 0.12909944487358055), (250, 0.12909944487358055), (257, 0.12909944487358055), (335, 0.12909944487358055), (378, 0.12909944487358055), (394, 0.12909944487358055), (397, 0.12909944487358055), (427, 0.12909944487358055), (436, 0.12909944487358055), (481, 0.12909944487358055), (489, 0.12909944487358055), (494, 0.12909944487358055), (497, 0.12909944487358055), (505, 0.12909944487358055), (548, 0.12909944487358055), (552, 0.12909944487358055), (580, 0.12909944487358055), (622, 0.12909944487358055), (625, 0.12909944487358055), (676, 0.12909944487358055), (683, 0.12909944487358055), (709, 0.12909944487358055), (714, 0.12909944487358055), (723, 0.12909944487358055), (748, 0.12909944487358055), (757, 0.12909944487358055), (763, 0.12909944487358055), (767, 0.12909944487358055), (769, 0.12909944487358055), (802, 0.12909944487358055), (811, 0.12909944487358055), (836, 0.12909944487358055), (862, 0.12909944487358055), (864, 0.12909944487358055), (877, 0.12909944487358055), (909, 0.12909944487358055), (925, 0.12909944487358055), (930, 0.12909944487358055), (937, 0.12909944487358055), (944, 0.12909944487358055), (945, 0.12909944487358055), (948, 0.12909944487358055), (954, 0.12909944487358055), (960, 0.12909944487358055), (979, 0.12909944487358055), (987, 0.12909944487358055), (31, 0.125), (35, 0.125), (41, 0.125), (77, 0.125), (123, 0.125), (140, 0.125), (142, 0.125), (152, 0.125), (156, 0.125), (169, 0.125), (172, 0.125), (179, 0.125), (255, 0.125), (298, 0.125), (329, 0.125), (337, 0.125), (338, 0.125), (353, 0.125), (362, 0.125), (385, 0.125), (403, 0.125), (416, 0.125), (421, 0.125), (422, 0.125), (437, 0.125), (460, 0.125), (511, 0.125), (512, 0.125), (519, 0.125), (524, 0.125), (543, 0.125), (597, 0.125), (630, 0.125), (635, 0.125), (644, 0.125), (656, 0.125), (660, 0.125), (680, 0.125), (684, 0.125), (686, 0.125), (693, 0.125), (725, 0.125), (749, 0.125), (777, 0.125), (785, 0.125), (791, 0.125), (823, 0.125), (831, 0.125), (856, 0.125), (865, 0.125), (873, 0.125), (926, 0.125), (938, 0.125), (951, 0.125), (952, 0.125), (955, 0.125), (985, 0.125), (999, 0.125), (27, 0.12126781251816648), (43, 0.12126781251816648), (209, 0.12126781251816648), (219, 0.12126781251816648), (225, 0.12126781251816648), (231, 0.12126781251816648), (248, 0.12126781251816648), (272, 0.12126781251816648), (276, 0.12126781251816648), (284, 0.12126781251816648), (299, 0.12126781251816648), (307, 0.12126781251816648), (314, 0.12126781251816648), (339, 0.12126781251816648), (340, 0.12126781251816648), (344, 0.12126781251816648), (346, 0.12126781251816648), (357, 0.12126781251816648), (389, 0.12126781251816648), (463, 0.12126781251816648), (467, 0.12126781251816648), (496, 0.12126781251816648), (523, 0.12126781251816648), (535, 0.12126781251816648), (536, 0.12126781251816648), (553, 0.12126781251816648), (560, 0.12126781251816648), (561, 0.12126781251816648), (607, 0.12126781251816648), (632, 0.12126781251816648), (729, 0.12126781251816648), (731, 0.12126781251816648), (792, 0.12126781251816648), (807, 0.12126781251816648), (827, 0.12126781251816648), (853, 0.12126781251816648), (942, 0.12126781251816648), (943, 0.12126781251816648), (978, 0.12126781251816648), (980, 0.12126781251816648), (14, 0.11785113019775793), (59, 0.11785113019775793), (71, 0.11785113019775793), (72, 0.11785113019775793), (168, 0.11785113019775793), (186, 0.11785113019775793), (252, 0.11785113019775793), (287, 0.11785113019775793), (360, 0.11785113019775793), (444, 0.11785113019775793), (457, 0.11785113019775793), (461, 0.11785113019775793), (470, 0.11785113019775793), (480, 0.11785113019775793), (487, 0.11785113019775793), (495, 0.11785113019775793), (533, 0.11785113019775793), (579, 0.11785113019775793), (762, 0.11785113019775793), (766, 0.11785113019775793), (814, 0.11785113019775793), (871, 0.11785113019775793), (887, 0.11785113019775793), (924, 0.11785113019775793), (950, 0.11785113019775793), (982, 0.11785113019775793), (68, 0.11470786693528087), (127, 0.11470786693528087), (132, 0.11470786693528087), (153, 0.11470786693528087), (230, 0.11470786693528087), (236, 0.11470786693528087), (320, 0.11470786693528087), (351, 0.11470786693528087), (363, 0.11470786693528087), (390, 0.11470786693528087), (431, 0.11470786693528087), (454, 0.11470786693528087), (510, 0.11470786693528087), (545, 0.11470786693528087), (628, 0.11470786693528087), (653, 0.11470786693528087), (798, 0.11470786693528087), (867, 0.11470786693528087), (988, 0.11470786693528087), (83, 0.11180339887498948), (193, 0.11180339887498948), (295, 0.11180339887498948), (477, 0.11180339887498948), (530, 0.11180339887498948), (609, 0.11180339887498948), (666, 0.11180339887498948), (815, 0.11180339887498948), (922, 0.11180339887498948), (939, 0.11180339887498948), (16, 0.1091089451179962), (54, 0.1091089451179962), (58, 0.1091089451179962), (67, 0.1091089451179962), (94, 0.1091089451179962), (161, 0.1091089451179962), (232, 0.1091089451179962), (438, 0.1091089451179962), (608, 0.1091089451179962), (736, 0.1091089451179962), (737, 0.1091089451179962), (839, 0.1091089451179962), (957, 0.1091089451179962), (965, 0.1091089451179962), (109, 0.10660035817780521), (532, 0.10660035817780521), (732, 0.10660035817780521), (525, 0.10425720702853739), (664, 0.10425720702853739), (261, 0.10206207261596577), (641, 0.10206207261596577), (708, 0.10206207261596577), (246, 0.1), (794, 0.09805806756909202), (239, 0.09128709291752768), (20, 0.07537783614444091), (34, 0.07216878364870323), (64, 0.07216878364870323), (141, 0.07216878364870323), (280, 0.07216878364870323), (370, 0.07216878364870323), (432, 0.07216878364870323), (491, 0.07216878364870323), (572, 0.07216878364870323), (636, 0.07216878364870323), (818, 0.07216878364870323), (880, 0.07216878364870323), (883, 0.07216878364870323), (9, 0.06933752452815364), (76, 0.06933752452815364), (98, 0.06933752452815364), (121, 0.06933752452815364), (128, 0.06933752452815364), (138, 0.06933752452815364), (154, 0.06933752452815364), (177, 0.06933752452815364), (184, 0.06933752452815364), (188, 0.06933752452815364), (200, 0.06933752452815364), (203, 0.06933752452815364), (227, 0.06933752452815364), (254, 0.06933752452815364), (268, 0.06933752452815364), (279, 0.06933752452815364), (289, 0.06933752452815364), (324, 0.06933752452815364), (328, 0.06933752452815364), (333, 0.06933752452815364), (350, 0.06933752452815364), (404, 0.06933752452815364), (443, 0.06933752452815364), (468, 0.06933752452815364), (550, 0.06933752452815364), (567, 0.06933752452815364), (601, 0.06933752452815364), (615, 0.06933752452815364), (652, 0.06933752452815364), (662, 0.06933752452815364), (670, 0.06933752452815364), (742, 0.06933752452815364), (750, 0.06933752452815364), (787, 0.06933752452815364), (788, 0.06933752452815364), (789, 0.06933752452815364), (905, 0.06933752452815364), (996, 0.06933752452815364), (998, 0.06933752452815364), (11, 0.0668153104781061), (62, 0.0668153104781061), (66, 0.0668153104781061), (92, 0.0668153104781061), (96, 0.0668153104781061), (97, 0.0668153104781061), (107, 0.0668153104781061), (137, 0.0668153104781061), (171, 0.0668153104781061), (174, 0.0668153104781061), (190, 0.0668153104781061), (196, 0.0668153104781061), (206, 0.0668153104781061), (207, 0.0668153104781061), (214, 0.0668153104781061), (259, 0.0668153104781061), (273, 0.0668153104781061), (274, 0.0668153104781061), (283, 0.0668153104781061), (285, 0.0668153104781061), (296, 0.0668153104781061), (303, 0.0668153104781061), (312, 0.0668153104781061), (349, 0.0668153104781061), (354, 0.0668153104781061), (355, 0.0668153104781061), (358, 0.0668153104781061), (364, 0.0668153104781061), (372, 0.0668153104781061), (383, 0.0668153104781061), (392, 0.0668153104781061), (398, 0.0668153104781061), (400, 0.0668153104781061), (411, 0.0668153104781061), (413, 0.0668153104781061), (419, 0.0668153104781061), (423, 0.0668153104781061), (425, 0.0668153104781061), (447, 0.0668153104781061), (452, 0.0668153104781061), (471, 0.0668153104781061), (517, 0.0668153104781061), (538, 0.0668153104781061), (549, 0.0668153104781061), (554, 0.0668153104781061), (557, 0.0668153104781061), (574, 0.0668153104781061), (585, 0.0668153104781061), (587, 0.0668153104781061), (588, 0.0668153104781061), (594, 0.0668153104781061), (617, 0.0668153104781061), (620, 0.0668153104781061), (623, 0.0668153104781061), (631, 0.0668153104781061), (671, 0.0668153104781061), (673, 0.0668153104781061), (685, 0.0668153104781061), (720, 0.0668153104781061), (722, 0.0668153104781061), (739, 0.0668153104781061), (751, 0.0668153104781061), (765, 0.0668153104781061), (779, 0.0668153104781061), (783, 0.0668153104781061), (795, 0.0668153104781061), (801, 0.0668153104781061), (803, 0.0668153104781061), (817, 0.0668153104781061), (840, 0.0668153104781061), (841, 0.0668153104781061), (851, 0.0668153104781061), (855, 0.0668153104781061), (859, 0.0668153104781061), (860, 0.0668153104781061), (861, 0.0668153104781061), (863, 0.0668153104781061), (868, 0.0668153104781061), (870, 0.0668153104781061), (878, 0.0668153104781061), (886, 0.0668153104781061), (891, 0.0668153104781061), (900, 0.0668153104781061), (913, 0.0668153104781061), (934, 0.0668153104781061), (941, 0.0668153104781061), (993, 0.0668153104781061), (7, 0.06454972243679027), (29, 0.06454972243679027), (40, 0.06454972243679027), (45, 0.06454972243679027), (70, 0.06454972243679027), (80, 0.06454972243679027), (84, 0.06454972243679027), (85, 0.06454972243679027), (88, 0.06454972243679027), (89, 0.06454972243679027), (90, 0.06454972243679027), (93, 0.06454972243679027), (104, 0.06454972243679027), (105, 0.06454972243679027), (110, 0.06454972243679027), (122, 0.06454972243679027), (126, 0.06454972243679027), (131, 0.06454972243679027), (175, 0.06454972243679027), (182, 0.06454972243679027), (187, 0.06454972243679027), (204, 0.06454972243679027), (212, 0.06454972243679027), (235, 0.06454972243679027), (237, 0.06454972243679027), (244, 0.06454972243679027), (256, 0.06454972243679027), (267, 0.06454972243679027), (281, 0.06454972243679027), (282, 0.06454972243679027), (286, 0.06454972243679027), (292, 0.06454972243679027), (297, 0.06454972243679027), (300, 0.06454972243679027), (302, 0.06454972243679027), (322, 0.06454972243679027), (341, 0.06454972243679027), (342, 0.06454972243679027), (348, 0.06454972243679027), (361, 0.06454972243679027), (368, 0.06454972243679027), (373, 0.06454972243679027), (377, 0.06454972243679027), (386, 0.06454972243679027), (387, 0.06454972243679027), (388, 0.06454972243679027), (405, 0.06454972243679027), (412, 0.06454972243679027), (430, 0.06454972243679027), (435, 0.06454972243679027), (445, 0.06454972243679027), (453, 0.06454972243679027), (462, 0.06454972243679027), (466, 0.06454972243679027), (473, 0.06454972243679027), (478, 0.06454972243679027), (486, 0.06454972243679027), (488, 0.06454972243679027), (492, 0.06454972243679027), (493, 0.06454972243679027), (498, 0.06454972243679027), (501, 0.06454972243679027), (514, 0.06454972243679027), (515, 0.06454972243679027), (522, 0.06454972243679027), (529, 0.06454972243679027), (551, 0.06454972243679027), (555, 0.06454972243679027), (559, 0.06454972243679027), (562, 0.06454972243679027), (571, 0.06454972243679027), (575, 0.06454972243679027), (586, 0.06454972243679027), (592, 0.06454972243679027), (593, 0.06454972243679027), (595, 0.06454972243679027), (598, 0.06454972243679027), (619, 0.06454972243679027), (626, 0.06454972243679027), (627, 0.06454972243679027), (634, 0.06454972243679027), (647, 0.06454972243679027), (654, 0.06454972243679027), (658, 0.06454972243679027), (681, 0.06454972243679027), (690, 0.06454972243679027), (699, 0.06454972243679027), (700, 0.06454972243679027), (706, 0.06454972243679027), (719, 0.06454972243679027), (721, 0.06454972243679027), (745, 0.06454972243679027), (760, 0.06454972243679027), (770, 0.06454972243679027), (772, 0.06454972243679027), (780, 0.06454972243679027), (810, 0.06454972243679027), (813, 0.06454972243679027), (824, 0.06454972243679027), (830, 0.06454972243679027), (834, 0.06454972243679027), (857, 0.06454972243679027), (874, 0.06454972243679027), (897, 0.06454972243679027), (906, 0.06454972243679027), (910, 0.06454972243679027), (933, 0.06454972243679027), (940, 0.06454972243679027), (962, 0.06454972243679027), (964, 0.06454972243679027), (966, 0.06454972243679027), (970, 0.06454972243679027), (972, 0.06454972243679027), (32, 0.0625), (44, 0.0625), (46, 0.0625), (74, 0.0625), (82, 0.0625), (99, 0.0625), (116, 0.0625), (150, 0.0625), (157, 0.0625), (173, 0.0625), (197, 0.0625), (210, 0.0625), (258, 0.0625), (262, 0.0625), (266, 0.0625), (269, 0.0625), (271, 0.0625), (277, 0.0625), (291, 0.0625), (319, 0.0625), (336, 0.0625), (359, 0.0625), (382, 0.0625), (406, 0.0625), (428, 0.0625), (439, 0.0625), (449, 0.0625), (456, 0.0625), (459, 0.0625), (464, 0.0625), (503, 0.0625), (504, 0.0625), (508, 0.0625), (509, 0.0625), (518, 0.0625), (521, 0.0625), (534, 0.0625), (541, 0.0625), (563, 0.0625), (581, 0.0625), (582, 0.0625), (589, 0.0625), (613, 0.0625), (629, 0.0625), (646, 0.0625), (657, 0.0625), (667, 0.0625), (672, 0.0625), (677, 0.0625), (688, 0.0625), (689, 0.0625), (728, 0.0625), (735, 0.0625), (738, 0.0625), (741, 0.0625), (758, 0.0625), (764, 0.0625), (786, 0.0625), (790, 0.0625), (793, 0.0625), (812, 0.0625), (854, 0.0625), (866, 0.0625), (876, 0.0625), (890, 0.0625), (904, 0.0625), (914, 0.0625), (929, 0.0625), (935, 0.0625), (959, 0.0625), (967, 0.0625), (976, 0.0625), (981, 0.0625), (984, 0.0625), (990, 0.0625), (995, 0.0625), (18, 0.06063390625908324), (24, 0.06063390625908324), (48, 0.06063390625908324), (53, 0.06063390625908324), (56, 0.06063390625908324), (148, 0.06063390625908324), (167, 0.06063390625908324), (185, 0.06063390625908324), (208, 0.06063390625908324), (228, 0.06063390625908324), (229, 0.06063390625908324), (233, 0.06063390625908324), (238, 0.06063390625908324), (264, 0.06063390625908324), (275, 0.06063390625908324), (301, 0.06063390625908324), (309, 0.06063390625908324), (313, 0.06063390625908324), (325, 0.06063390625908324), (327, 0.06063390625908324), (352, 0.06063390625908324), (395, 0.06063390625908324), (401, 0.06063390625908324), (407, 0.06063390625908324), (409, 0.06063390625908324), (426, 0.06063390625908324), (440, 0.06063390625908324), (455, 0.06063390625908324), (458, 0.06063390625908324), (472, 0.06063390625908324), (482, 0.06063390625908324), (502, 0.06063390625908324), (540, 0.06063390625908324), (544, 0.06063390625908324), (556, 0.06063390625908324), (558, 0.06063390625908324), (604, 0.06063390625908324), (618, 0.06063390625908324), (624, 0.06063390625908324), (650, 0.06063390625908324), (678, 0.06063390625908324), (703, 0.06063390625908324), (716, 0.06063390625908324), (734, 0.06063390625908324), (746, 0.06063390625908324), (747, 0.06063390625908324), (752, 0.06063390625908324), (804, 0.06063390625908324), (828, 0.06063390625908324), (858, 0.06063390625908324), (879, 0.06063390625908324), (911, 0.06063390625908324), (920, 0.06063390625908324), (923, 0.06063390625908324), (946, 0.06063390625908324), (963, 0.06063390625908324), (975, 0.06063390625908324), (986, 0.06063390625908324), (997, 0.06063390625908324), (102, 0.05892556509887897), (124, 0.05892556509887897), (125, 0.05892556509887897), (221, 0.05892556509887897), (223, 0.05892556509887897), (251, 0.05892556509887897), (265, 0.05892556509887897), (315, 0.05892556509887897), (334, 0.05892556509887897), (381, 0.05892556509887897), (408, 0.05892556509887897), (448, 0.05892556509887897), (490, 0.05892556509887897), (500, 0.05892556509887897), (599, 0.05892556509887897), (640, 0.05892556509887897), (643, 0.05892556509887897), (645, 0.05892556509887897), (668, 0.05892556509887897), (698, 0.05892556509887897), (726, 0.05892556509887897), (753, 0.05892556509887897), (820, 0.05892556509887897), (825, 0.05892556509887897), (835, 0.05892556509887897), (971, 0.05892556509887897), (992, 0.05892556509887897), (51, 0.057353933467640436), (52, 0.057353933467640436), (65, 0.057353933467640436), (91, 0.057353933467640436), (139, 0.057353933467640436), (143, 0.057353933467640436), (149, 0.057353933467640436), (195, 0.057353933467640436), (211, 0.057353933467640436), (234, 0.057353933467640436), (240, 0.057353933467640436), (247, 0.057353933467640436), (290, 0.057353933467640436), (293, 0.057353933467640436), (317, 0.057353933467640436), (318, 0.057353933467640436), (332, 0.057353933467640436), (433, 0.057353933467640436), (479, 0.057353933467640436), (507, 0.057353933467640436), (526, 0.057353933467640436), (701, 0.057353933467640436), (754, 0.057353933467640436), (796, 0.057353933467640436), (826, 0.057353933467640436), (845, 0.057353933467640436), (907, 0.057353933467640436), (936, 0.057353933467640436), (947, 0.057353933467640436), (26, 0.05590169943749474), (60, 0.05590169943749474), (166, 0.05590169943749474), (249, 0.05590169943749474), (260, 0.05590169943749474), (306, 0.05590169943749474), (365, 0.05590169943749474), (391, 0.05590169943749474), (402, 0.05590169943749474), (475, 0.05590169943749474), (506, 0.05590169943749474), (537, 0.05590169943749474), (606, 0.05590169943749474), (691, 0.05590169943749474), (713, 0.05590169943749474), (755, 0.05590169943749474), (781, 0.05590169943749474), (797, 0.05590169943749474), (903, 0.05590169943749474), (19, 0.0545544725589981), (100, 0.0545544725589981), (120, 0.0545544725589981), (178, 0.0545544725589981), (199, 0.0545544725589981), (583, 0.0545544725589981), (638, 0.0545544725589981), (806, 0.0545544725589981), (379, 0.053300179088902604), (776, 0.053300179088902604), (78, 0.05212860351426869), (194, 0.05212860351426869), (374, 0.05212860351426869), (565, 0.05212860351426869), (805, 0.051031036307982884), (253, 0.04902903378454601), (727, 0.048112522432468816), (371, 0.03904344047215152), (12, 0.0), (23, 0.0), (49, 0.0), (61, 0.0), (75, 0.0), (81, 0.0), (95, 0.0), (101, 0.0), (114, 0.0), (115, 0.0), (118, 0.0), (119, 0.0), (135, 0.0), (145, 0.0), (146, 0.0), (151, 0.0), (158, 0.0), (170, 0.0), (183, 0.0), (192, 0.0), (205, 0.0), (213, 0.0), (220, 0.0), (242, 0.0), (245, 0.0), (270, 0.0), (316, 0.0), (321, 0.0), (330, 0.0), (366, 0.0), (367, 0.0), (393, 0.0), (396, 0.0), (399, 0.0), (414, 0.0), (415, 0.0), (417, 0.0), (446, 0.0), (469, 0.0), (499, 0.0), (516, 0.0), (531, 0.0), (539, 0.0), (547, 0.0), (566, 0.0), (568, 0.0), (576, 0.0), (591, 0.0), (596, 0.0), (633, 0.0), (651, 0.0), (679, 0.0), (694, 0.0), (704, 0.0), (711, 0.0), (712, 0.0), (715, 0.0), (717, 0.0), (724, 0.0), (740, 0.0), (743, 0.0), (756, 0.0), (761, 0.0), (771, 0.0), (799, 0.0), (800, 0.0), (808, 0.0), (816, 0.0), (822, 0.0), (829, 0.0), (837, 0.0), (842, 0.0), (843, 0.0), (844, 0.0), (846, 0.0), (848, 0.0), (875, 0.0), (892, 0.0), (899, 0.0), (902, 0.0), (912, 0.0), (919, 0.0), (932, 0.0), (956, 0.0), (961, 0.0), (969, 0.0), (973, 0.0), (991, 0.0), (994, 0.0)]\n"
          ]
        }
      ]
    },
    {
      "cell_type": "code",
      "source": [
        "#create a loop to print the first 7 similar movies\n",
        "j = 0\n",
        "print('The 7 most recommended movies to', title, 'are:\" \\n')\n",
        "for item in sorted_scores[:7]:\n",
        "  movie_title = df[df.Movie_id == item[0]]['Title'].values[0]\n",
        "  print(j+1, movie_title)\n",
        "  j = j+1"
      ],
      "metadata": {
        "colab": {
          "base_uri": "https://localhost:8080/"
        },
        "id": "reiFzLUnkaH8",
        "outputId": "6202f811-9a3e-4dae-e450-fc5ed449b0e0"
      },
      "execution_count": 186,
      "outputs": [
        {
          "output_type": "stream",
          "name": "stdout",
          "text": [
            "The 7 most recommended movies to The Dark Knight are:\" \n",
            "\n",
            "1 The Prestige\n",
            "2 The Dark Knight Rises\n",
            "3 Batman Begins\n",
            "4 3:10 to Yuma\n",
            "5 Empire of the Sun\n",
            "6 The Muppet Christmas Carol\n",
            "7 The Girl with the Dragon Tattoo\n"
          ]
        }
      ]
    }
  ]
}